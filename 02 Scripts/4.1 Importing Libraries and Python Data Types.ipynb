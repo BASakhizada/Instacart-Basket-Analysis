{
 "cells": [
  {
   "cell_type": "code",
   "execution_count": 112,
   "id": "49fbe62e-b07d-4cbb-a897-3e0ea9f9158e",
   "metadata": {},
   "outputs": [],
   "source": [
    "#08. 2 Floating Point Variables "
   ]
  },
  {
   "cell_type": "code",
   "execution_count": 114,
   "id": "0005bb79-22a8-48b2-ab4b-ae19de544b17",
   "metadata": {},
   "outputs": [],
   "source": [
    "n=20.214"
   ]
  },
  {
   "cell_type": "code",
   "execution_count": 116,
   "id": "efe87dbe-52a4-45ab-b9fa-c572bd082240",
   "metadata": {},
   "outputs": [],
   "source": [
    "m=10.548"
   ]
  },
  {
   "cell_type": "code",
   "execution_count": 118,
   "id": "5466f275-7bbd-4385-9f8d-e0b7368b94ef",
   "metadata": {},
   "outputs": [
    {
     "data": {
      "text/plain": [
       "1.9163822525597267"
      ]
     },
     "execution_count": 118,
     "metadata": {},
     "output_type": "execute_result"
    }
   ],
   "source": [
    "n/m"
   ]
  },
  {
   "cell_type": "code",
   "execution_count": null,
   "id": "8565c86c-65b5-410a-a15d-8eda063830d8",
   "metadata": {},
   "outputs": [],
   "source": []
  },
  {
   "cell_type": "code",
   "execution_count": 90,
   "id": "6d6a3d08-798f-442b-b7d7-27e2af692c1c",
   "metadata": {},
   "outputs": [],
   "source": [
    "#07. Reaching 100"
   ]
  },
  {
   "cell_type": "code",
   "execution_count": 102,
   "id": "64ab09e8-7d6c-44b2-a479-2ad7688295b6",
   "metadata": {},
   "outputs": [],
   "source": [
    "x=10"
   ]
  },
  {
   "cell_type": "code",
   "execution_count": 104,
   "id": "4f8f2433-ea3f-4c5f-bdcc-febd37b52574",
   "metadata": {},
   "outputs": [],
   "source": [
    "y=60"
   ]
  },
  {
   "cell_type": "code",
   "execution_count": 96,
   "id": "d03f8b12-0d02-4c99-a368-0a0fd2be6a71",
   "metadata": {},
   "outputs": [],
   "source": [
    "z=40"
   ]
  },
  {
   "cell_type": "code",
   "execution_count": 106,
   "id": "1321778b-35ca-4f96-8cd7-3ab7a707bb44",
   "metadata": {},
   "outputs": [
    {
     "data": {
      "text/plain": [
       "110"
      ]
     },
     "execution_count": 106,
     "metadata": {},
     "output_type": "execute_result"
    }
   ],
   "source": [
    "x+y+z"
   ]
  },
  {
   "cell_type": "code",
   "execution_count": 108,
   "id": "eea516e4-9d52-47fa-9056-cea362d66eb1",
   "metadata": {},
   "outputs": [
    {
     "data": {
      "text/plain": [
       "100.0"
      ]
     },
     "execution_count": 108,
     "metadata": {},
     "output_type": "execute_result"
    }
   ],
   "source": [
    "1000/x"
   ]
  },
  {
   "cell_type": "code",
   "execution_count": 110,
   "id": "5187ca3a-325e-4483-bcff-a1498ae063fc",
   "metadata": {},
   "outputs": [
    {
     "data": {
      "text/plain": [
       "100"
      ]
     },
     "execution_count": 110,
     "metadata": {},
     "output_type": "execute_result"
    }
   ],
   "source": [
    "10*x"
   ]
  },
  {
   "cell_type": "code",
   "execution_count": 120,
   "id": "645532da-35fc-47b7-b5a2-e47a05110113",
   "metadata": {},
   "outputs": [],
   "source": [
    "#.09. Strings and Concatenate "
   ]
  },
  {
   "cell_type": "code",
   "execution_count": 82,
   "id": "1ce63f80-213d-421d-a014-e5c73e678c49",
   "metadata": {},
   "outputs": [],
   "source": [
    "a='hello'"
   ]
  },
  {
   "cell_type": "code",
   "execution_count": 84,
   "id": "7b1043fd-3680-4c99-87cf-5b15f46b26f4",
   "metadata": {},
   "outputs": [],
   "source": [
    "b='John'"
   ]
  },
  {
   "cell_type": "code",
   "execution_count": 86,
   "id": "c2cd7f8b-76ac-4a99-9ce1-1127ed8fe361",
   "metadata": {},
   "outputs": [],
   "source": [
    "c='Noel'"
   ]
  },
  {
   "cell_type": "code",
   "execution_count": 88,
   "id": "d39b1f4c-2a17-4c7d-a8d6-2da3ed1366a7",
   "metadata": {},
   "outputs": [
    {
     "data": {
      "text/plain": [
       "'helloJohnNoel'"
      ]
     },
     "execution_count": 88,
     "metadata": {},
     "output_type": "execute_result"
    }
   ],
   "source": [
    "a+b+c"
   ]
  },
  {
   "cell_type": "code",
   "execution_count": 122,
   "id": "706d3dfe-ea3e-40c1-a8a5-27e78583683c",
   "metadata": {
    "scrolled": true
   },
   "outputs": [
    {
     "data": {
      "text/plain": [
       "str"
      ]
     },
     "execution_count": 122,
     "metadata": {},
     "output_type": "execute_result"
    }
   ],
   "source": [
    "type('hello')"
   ]
  },
  {
   "cell_type": "code",
   "execution_count": 132,
   "id": "16591c9f-307d-4264-b84f-594f65681638",
   "metadata": {},
   "outputs": [],
   "source": [
    "#10. Short Sentences with Strings"
   ]
  },
  {
   "cell_type": "code",
   "execution_count": 124,
   "id": "6541b444-0162-4dd7-b334-85730442c03a",
   "metadata": {},
   "outputs": [],
   "source": [
    "a='how'"
   ]
  },
  {
   "cell_type": "code",
   "execution_count": 126,
   "id": "b9ea9535-d3ae-4232-a295-f30479ce658f",
   "metadata": {},
   "outputs": [],
   "source": [
    "b='are'"
   ]
  },
  {
   "cell_type": "code",
   "execution_count": 128,
   "id": "4db01180-9dd7-4996-bdff-92c3a20ba374",
   "metadata": {},
   "outputs": [],
   "source": [
    "c='you'"
   ]
  },
  {
   "cell_type": "code",
   "execution_count": 130,
   "id": "6a79881c-4192-4290-ae58-f5d2a4fa25cb",
   "metadata": {},
   "outputs": [
    {
     "data": {
      "text/plain": [
       "'howareyou'"
      ]
     },
     "execution_count": 130,
     "metadata": {},
     "output_type": "execute_result"
    }
   ],
   "source": [
    "a+b+c"
   ]
  },
  {
   "cell_type": "code",
   "execution_count": 134,
   "id": "c7d3be68-54cd-400c-9ba3-83e356b9757d",
   "metadata": {},
   "outputs": [],
   "source": [
    "p='where'"
   ]
  },
  {
   "cell_type": "code",
   "execution_count": 136,
   "id": "0eca2475-16a4-4c2a-9b2b-66618da1c024",
   "metadata": {},
   "outputs": [],
   "source": [
    "k='are'"
   ]
  },
  {
   "cell_type": "code",
   "execution_count": 138,
   "id": "e8ae65e2-0c68-4fee-8cd8-9215246f51e7",
   "metadata": {},
   "outputs": [],
   "source": [
    "r='you'"
   ]
  },
  {
   "cell_type": "code",
   "execution_count": 140,
   "id": "4ba56889-839e-4b47-aaa7-296e0a59bba9",
   "metadata": {},
   "outputs": [],
   "source": [
    "s='from?'"
   ]
  },
  {
   "cell_type": "code",
   "execution_count": null,
   "id": "ba8c58e7-c1c8-4fbe-a37e-3190b8c8fbe6",
   "metadata": {},
   "outputs": [],
   "source": [
    "#01. Importing Libraries "
   ]
  },
  {
   "cell_type": "code",
   "execution_count": 142,
   "id": "c15cf83c-5d2a-43f8-9c37-8fd5ac1447d4",
   "metadata": {},
   "outputs": [
    {
     "data": {
      "text/plain": [
       "'whereareyoufrom?'"
      ]
     },
     "execution_count": 142,
     "metadata": {},
     "output_type": "execute_result"
    }
   ],
   "source": [
    "p+k+r+s"
   ]
  },
  {
   "cell_type": "code",
   "execution_count": 76,
   "id": "ca14d635-6589-4108-bfdf-007533a454e5",
   "metadata": {},
   "outputs": [],
   "source": [
    "# Import Libraries \n",
    "import pandas as pd\n",
    "import numpy as np\n",
    "import os"
   ]
  }
 ],
 "metadata": {
  "kernelspec": {
   "display_name": "Python 3 (ipykernel)",
   "language": "python",
   "name": "python3"
  },
  "language_info": {
   "codemirror_mode": {
    "name": "ipython",
    "version": 3
   },
   "file_extension": ".py",
   "mimetype": "text/x-python",
   "name": "python",
   "nbconvert_exporter": "python",
   "pygments_lexer": "ipython3",
   "version": "3.12.4"
  }
 },
 "nbformat": 4,
 "nbformat_minor": 5
}
